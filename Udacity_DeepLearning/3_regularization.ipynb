{
 "cells": [
  {
   "cell_type": "markdown",
   "metadata": {
    "colab_type": "text",
    "id": "kR-4eNdK6lYS"
   },
   "source": [
    "Deep Learning\n",
    "=============\n",
    "\n",
    "Assignment 3\n",
    "------------\n",
    "\n",
    "Previously in `2_fullyconnected.ipynb`, you trained a logistic regression and a neural network model.\n",
    "\n",
    "The goal of this assignment is to explore regularization techniques."
   ]
  },
  {
   "cell_type": "code",
   "execution_count": 2,
   "metadata": {
    "cellView": "both",
    "colab": {
     "autoexec": {
      "startup": false,
      "wait_interval": 0
     }
    },
    "colab_type": "code",
    "collapsed": true,
    "id": "JLpLa8Jt7Vu4"
   },
   "outputs": [],
   "source": [
    "# These are all the modules we'll be using later. Make sure you can import them\n",
    "# before proceeding further.\n",
    "from __future__ import print_function\n",
    "import numpy as np\n",
    "import tensorflow as tf\n",
    "from six.moves import cPickle as pickle"
   ]
  },
  {
   "cell_type": "markdown",
   "metadata": {
    "colab_type": "text",
    "id": "1HrCK6e17WzV"
   },
   "source": [
    "First reload the data we generated in `1_notmnist.ipynb`."
   ]
  },
  {
   "cell_type": "code",
   "execution_count": 3,
   "metadata": {
    "cellView": "both",
    "colab": {
     "autoexec": {
      "startup": false,
      "wait_interval": 0
     },
     "output_extras": [
      {
       "item_id": 1
      }
     ]
    },
    "colab_type": "code",
    "collapsed": false,
    "executionInfo": {
     "elapsed": 11777,
     "status": "ok",
     "timestamp": 1449849322348,
     "user": {
      "color": "",
      "displayName": "",
      "isAnonymous": false,
      "isMe": true,
      "permissionId": "",
      "photoUrl": "",
      "sessionId": "0",
      "userId": ""
     },
     "user_tz": 480
    },
    "id": "y3-cj1bpmuxc",
    "outputId": "e03576f1-ebbe-4838-c388-f1777bcc9873"
   },
   "outputs": [
    {
     "name": "stdout",
     "output_type": "stream",
     "text": [
      "Training set (200000, 28, 28) (200000,)\n",
      "Validation set (10000, 28, 28) (10000,)\n",
      "Test set (10000, 28, 28) (10000,)\n"
     ]
    }
   ],
   "source": [
    "pickle_file = 'notMNIST.pickle'\n",
    "\n",
    "with open(pickle_file, 'rb') as f:\n",
    "    save = pickle.load(f)\n",
    "    train_dataset = save['train_dataset']\n",
    "    train_labels = save['train_labels']\n",
    "    valid_dataset = save['valid_dataset']\n",
    "    valid_labels = save['valid_labels']\n",
    "    test_dataset = save['test_dataset']\n",
    "    test_labels = save['test_labels']\n",
    "    del save  # hint to help gc free up memory\n",
    "    print('Training set', train_dataset.shape, train_labels.shape)\n",
    "    print('Validation set', valid_dataset.shape, valid_labels.shape)\n",
    "    print('Test set', test_dataset.shape, test_labels.shape)"
   ]
  },
  {
   "cell_type": "markdown",
   "metadata": {
    "colab_type": "text",
    "id": "L7aHrm6nGDMB"
   },
   "source": [
    "Reformat into a shape that's more adapted to the models we're going to train:\n",
    "- data as a flat matrix,\n",
    "- labels as float 1-hot encodings."
   ]
  },
  {
   "cell_type": "code",
   "execution_count": 4,
   "metadata": {
    "cellView": "both",
    "colab": {
     "autoexec": {
      "startup": false,
      "wait_interval": 0
     },
     "output_extras": [
      {
       "item_id": 1
      }
     ]
    },
    "colab_type": "code",
    "collapsed": false,
    "executionInfo": {
     "elapsed": 11728,
     "status": "ok",
     "timestamp": 1449849322356,
     "user": {
      "color": "",
      "displayName": "",
      "isAnonymous": false,
      "isMe": true,
      "permissionId": "",
      "photoUrl": "",
      "sessionId": "0",
      "userId": ""
     },
     "user_tz": 480
    },
    "id": "IRSyYiIIGIzS",
    "outputId": "3f8996ee-3574-4f44-c953-5c8a04636582"
   },
   "outputs": [
    {
     "name": "stdout",
     "output_type": "stream",
     "text": [
      "Training set (200000, 784) (200000, 10)\n",
      "Validation set (10000, 784) (10000, 10)\n",
      "Test set (10000, 784) (10000, 10)\n"
     ]
    }
   ],
   "source": [
    "image_size = 28\n",
    "num_labels = 10\n",
    "\n",
    "def reformat(dataset, labels):\n",
    "    dataset = dataset.reshape((-1, image_size * image_size)).astype(np.float32)\n",
    "    # Map 1 to [0.0, 1.0, 0.0 ...], 2 to [0.0, 0.0, 1.0 ...]\n",
    "    labels = (np.arange(num_labels) == labels[:,None]).astype(np.float32)\n",
    "    return dataset, labels\n",
    "train_dataset, train_labels = reformat(train_dataset, train_labels)\n",
    "valid_dataset, valid_labels = reformat(valid_dataset, valid_labels)\n",
    "test_dataset, test_labels = reformat(test_dataset, test_labels)\n",
    "print('Training set', train_dataset.shape, train_labels.shape)\n",
    "print('Validation set', valid_dataset.shape, valid_labels.shape)\n",
    "print('Test set', test_dataset.shape, test_labels.shape)"
   ]
  },
  {
   "cell_type": "code",
   "execution_count": 5,
   "metadata": {
    "cellView": "both",
    "colab": {
     "autoexec": {
      "startup": false,
      "wait_interval": 0
     }
    },
    "colab_type": "code",
    "collapsed": true,
    "id": "RajPLaL_ZW6w"
   },
   "outputs": [],
   "source": [
    "def accuracy(predictions, labels):\n",
    "    return (100.0 * np.sum(np.argmax(predictions, 1) == np.argmax(labels, 1))\n",
    "          / predictions.shape[0])"
   ]
  },
  {
   "cell_type": "markdown",
   "metadata": {
    "colab_type": "text",
    "id": "sgLbUAQ1CW-1"
   },
   "source": [
    "---\n",
    "Problem 1\n",
    "---------\n",
    "\n",
    "Introduce and tune L2 regularization for both logistic and neural network models. Remember that L2 amounts to adding a penalty on the norm of the weights to the loss. In TensorFlow, you can compute the L2 loss for a tensor `t` using `nn.l2_loss(t)`. The right amount of regularization should improve your validation / test accuracy.\n",
    "\n",
    "---"
   ]
  },
  {
   "cell_type": "code",
   "execution_count": 6,
   "metadata": {
    "collapsed": false
   },
   "outputs": [],
   "source": [
    "import sklearn.linear_model as Linear"
   ]
  },
  {
   "cell_type": "code",
   "execution_count": 7,
   "metadata": {
    "collapsed": false
   },
   "outputs": [],
   "source": [
    "Train1Dlabels = []\n",
    "Valid1Dlabels = []\n",
    "Test1Dlabels = []\n",
    "\n",
    "def label_data(data):\n",
    "    Tlabels = []\n",
    "    for label in data:\n",
    "        truelabel = [i for i, x in enumerate(label) if x]\n",
    "        Tlabels.append(truelabel[0])\n",
    "    return Tlabels\n",
    "    \n",
    "Train1Dlabels = label_data(train_labels)\n",
    "Valid1Dlabels = label_data(valid_labels)\n",
    "Test1Dlabels = label_data(test_labels)\n",
    "\n"
   ]
  },
  {
   "cell_type": "code",
   "execution_count": 56,
   "metadata": {
    "collapsed": false
   },
   "outputs": [
    {
     "name": "stdout",
     "output_type": "stream",
     "text": [
      "1e-05 0.2846 0.302\n",
      "0.0001 0.2288 0.248\n",
      "0.001 0.1936 0.226\n",
      "0.002 0.1838 0.212\n",
      "0.003 0.1782 0.212\n",
      "0.004 0.1726 0.208\n",
      "0.005 0.171 0.208\n",
      "0.006 0.1684 0.206\n",
      "0.007 0.1666 0.208\n",
      "0.008 0.1644 0.208\n",
      "0.009 0.1628 0.206\n",
      "0.01 0.1624 0.204\n",
      "0.01 0.1624 0.204\n",
      "0.02 0.149 0.208\n",
      "0.03 0.1402 0.206\n",
      "0.04 0.135 0.202\n",
      "0.05 0.13 0.2\n",
      "0.06 0.1266 0.2\n",
      "0.07 0.1238 0.198\n",
      "0.08 0.1198 0.198\n",
      "0.09 0.1184 0.198\n",
      "0.1 0.1148 0.198\n",
      "0.2 0.0956 0.2\n",
      "0.3 0.0824 0.206\n",
      "0.4 0.073 0.214\n",
      "0.5 0.068 0.22\n",
      "0.6 0.062 0.22\n",
      "0.7 0.0588 0.224\n",
      "0.8 0.0554 0.224\n",
      "0.9 0.0518 0.226\n",
      "1.0 0.0498 0.228\n",
      "10.0 0.0086 0.258\n"
     ]
    }
   ],
   "source": [
    "X = train_dataset[:5000]\n",
    "Y = Train1Dlabels[:5000]\n",
    "X_valid = valid_dataset[:500]\n",
    "Y_valid = Valid1Dlabels[:500]\n",
    "\n",
    "L2_weights = [0.00001, 0.0001, 0.001, 0.002, 0.003, 0.004, \n",
    "              0.005, 0.006, 0.007, 0.008, 0.009, 0.01, 0.01,\n",
    "              0.02, 0.03, 0.04, 0.05, 0.06, 0.07, 0.08, 0.09,\n",
    "              0.1, 0.2, 0.3, 0.4, 0.5, 0.6, 0.7, 0.8, 0.9, 1.0, 10.0]\n",
    "Verror = []\n",
    "Trerror = []\n",
    "for weight in L2_weights:\n",
    "    regr = Linear.LogisticRegression(C=weight)\n",
    "    regr.fit(X,Y)\n",
    "    Verror.append(1.0 - regr.score(X_valid,Y_valid));\n",
    "    Trerror.append(1.0 - regr.score(X,Y))\n",
    "    print (weight, 1.0 - regr.score(X,Y), 1.0 - regr.score(X_valid,Y_valid))"
   ]
  },
  {
   "cell_type": "code",
   "execution_count": 57,
   "metadata": {
    "collapsed": false
   },
   "outputs": [
    {
     "data": {
      "image/png": "[encoded data removed]",
      "text/plain": [
       "<matplotlib.figure.Figure at 0x7fa4f55d1690>"
      ]
     },
     "metadata": {},
     "output_type": "display_data"
    }
   ],
   "source": [
    "import matplotlib.pyplot as plt\n",
    "%matplotlib inline\n",
    "\n",
    "plt.plot(L2_weights,Trerror, \"b^-\", label = \"Training\")\n",
    "plt.plot(L2_weights,Verror, \"ro--\", label = \"Validation\")\n",
    "plt.xscale('log')\n",
    "plt.show(); plt.close()"
   ]
  },
  {
   "cell_type": "markdown",
   "metadata": {
    "collapsed": true
   },
   "source": [
    "### - Plot above show that the minima in validation error accors when L2-penalty weight ~ 0.085\n",
    "### - Lets see if the crossvalidation agree with us"
   ]
  },
  {
   "cell_type": "code",
   "execution_count": null,
   "metadata": {
    "collapsed": true
   },
   "outputs": [],
   "source": []
  },
  {
   "cell_type": "code",
   "execution_count": 60,
   "metadata": {
    "collapsed": false
   },
   "outputs": [
    {
     "data": {
      "text/plain": [
       "LogisticRegressionCV(Cs=10, class_weight=None, cv=None, dual=False,\n",
       "           fit_intercept=True, intercept_scaling=1.0, max_iter=100,\n",
       "           multi_class='ovr', n_jobs=1, penalty='l2', random_state=None,\n",
       "           refit=True, scoring=None, solver='lbfgs', tol=0.0001, verbose=0)"
      ]
     },
     "execution_count": 60,
     "metadata": {},
     "output_type": "execute_result"
    }
   ],
   "source": [
    "regr = Linear.LogisticRegressionCV()\n",
    "regr.fit(X,Y)"
   ]
  },
  {
   "cell_type": "code",
   "execution_count": 68,
   "metadata": {
    "collapsed": false
   },
   "outputs": [
    {
     "name": "stdout",
     "output_type": "stream",
     "text": [
      "[ 0.04641589  0.04641589  0.04641589  0.04641589  0.04641589  0.04641589\n",
      "  0.04641589  0.04641589  0.00599484  0.04641589]\n"
     ]
    }
   ],
   "source": [
    "print (regr.C_)"
   ]
  },
  {
   "cell_type": "markdown",
   "metadata": {},
   "source": [
    "### There are two L2-panelties ~= 0.04641589, 0.006\n",
    "#### so, lets try all of them, see which one is the best one.. "
   ]
  },
  {
   "cell_type": "code",
   "execution_count": 23,
   "metadata": {
    "collapsed": false
   },
   "outputs": [],
   "source": [
    "batch_size = 128\n",
    "n_nodes = 1024\n",
    "L2_weight = 0.085\n",
    "num_steps = 3001\n",
    "\n",
    "def tf_modelRegr(batch_size,n_nodes,num_steps,L2_weight):\n",
    "\n",
    "    graph = tf.Graph()\n",
    "    with graph.as_default():\n",
    "\n",
    "        # Input data. For the training data, we use a placeholder that will be fed\n",
    "        # at run time with a training minibatch.\n",
    "        tf_train_dataset = tf.placeholder(tf.float32,shape=(batch_size, image_size * image_size))\n",
    "        tf_train_labels =  tf.placeholder(tf.float32,shape=(batch_size, num_labels))\n",
    "        tf_valid_dataset = tf.constant(valid_dataset)\n",
    "        tf_test_dataset = tf.constant(test_dataset)\n",
    "\n",
    "        # input layer - (784 col) * (784 row x 1024 col) + (1024 col) = (1024 col)\n",
    "        weights_01 = tf.Variable(tf.truncated_normal([image_size * image_size, n_nodes]))\n",
    "        biases_01 = tf.Variable(tf.zeros([n_nodes]))\n",
    "\n",
    "        # then hidden layer - rectified linear on output of input layer\n",
    "        # output layer - (1024 col) * (1024 row x 10 col) + (10 col) = (10 col)\n",
    "        weights_12 = tf.Variable(tf.truncated_normal([n_nodes, num_labels]))\n",
    "        biases_12 = tf.Variable(tf.zeros([num_labels]))\n",
    "\n",
    "        # Training computation.\n",
    "        logits_01 = tf.matmul(tf_train_dataset, weights_01) + biases_01   ## input layer\n",
    "        h1 = tf.nn.relu(logits_01) ## Hidden layer\n",
    "        logits_12 = tf.matmul(h1, weights_12) + biases_12     ## output layer\n",
    "\n",
    "        ## calculating loss function\n",
    "        loss = tf.reduce_mean(\n",
    "            tf.nn.softmax_cross_entropy_with_logits(labels=tf_train_labels, logits=logits_12) + \n",
    "            L2_weight*tf.nn.l2_loss(weights_01) + \n",
    "            L2_weight*tf.nn.l2_loss(weights_12)\n",
    "        )\n",
    "\n",
    "        # Optimizer.\n",
    "        optimizer = tf.train.GradientDescentOptimizer(0.5).minimize(loss)\n",
    "\n",
    "        # Predictions for the training\n",
    "        train_prediction = tf.nn.softmax(logits_12) \n",
    "        valid_prediction = tf.nn.softmax(\n",
    "            tf.matmul(tf.nn.relu(tf.matmul(tf_valid_dataset, weights_01) + biases_01), weights_12) + biases_12\n",
    "        )\n",
    "        test_prediction = tf.nn.softmax(\n",
    "            tf.matmul(tf.nn.relu(tf.matmul(tf_test_dataset, weights_01) + biases_01), weights_12) + biases_12\n",
    "        )\n",
    " \n",
    "    with tf.Session(graph=graph) as session:\n",
    "        tf.global_variables_initializer().run()\n",
    "        #print(\"Initialized\")\n",
    "        for step in range(num_steps):\n",
    "            # Pick an offset within the training data, which has been randomized.\n",
    "            # Note: we could use better randomization across epochs.\n",
    "            offset = (step * batch_size) % (train_labels.shape[0] - batch_size)\n",
    "            # Generate a minibatch.\n",
    "            batch_data = train_dataset[offset:(offset + batch_size), :]\n",
    "            batch_labels = train_labels[offset:(offset + batch_size), :]\n",
    "            # Prepare a dictionary telling the session where to feed the minibatch.\n",
    "            # The key of the dictionary is the placeholder node of the graph to be fed,\n",
    "            # and the value is the numpy array to feed to it.\n",
    "            feed_dict = {tf_train_dataset : batch_data, \n",
    "                         tf_train_labels : batch_labels}\n",
    "            _, l, predictions = session.run([optimizer, loss, train_prediction], feed_dict=feed_dict)\n",
    "#             if (step % 500 == 0):\n",
    "#                 print(\"Minibatch loss at step %d: %f\" % (step, l))\n",
    "#                 print(\"Minibatch accuracy: %.1f%%\" % accuracy(predictions, batch_labels))\n",
    "#                 print(\"Validation accuracy: %.1f%%\" % accuracy(\n",
    "#                 valid_prediction.eval(), valid_labels))\n",
    "        #print(\"Test accuracy: %.1f%%\" % accuracy(test_prediction.eval(), test_labels))\n",
    "        print(L2_weight, \n",
    "              accuracy(valid_prediction.eval(), valid_labels), \n",
    "              accuracy(test_prediction.eval(), test_labels))\n",
    "        "
   ]
  },
  {
   "cell_type": "code",
   "execution_count": 24,
   "metadata": {
    "collapsed": false
   },
   "outputs": [
    {
     "name": "stdout",
     "output_type": "stream",
     "text": [
      "0.0005 84.09 90.87\n",
      "0.00075 85.82 92.21\n",
      "0.0008 86.24 92.28\n",
      "0.0009 86.58 92.85\n",
      "0.001 86.77 93.02\n",
      "0.002 86.25 92.41\n",
      "0.0025 86.03 92.23\n",
      "0.005 84.61 90.81\n",
      "0.0075 83.68 90.03\n"
     ]
    }
   ],
   "source": [
    "weights = [0.0005,0.00075,0.0008,0.0009,0.001,0.002,0.0025,0.005,0.0075]\n",
    "for L2_W in weights:\n",
    "    tf_modelRegr(batch_size=128,n_nodes=1024,num_steps=3001,L2_weight=L2_W)"
   ]
  },
  {
   "cell_type": "code",
   "execution_count": null,
   "metadata": {
    "collapsed": false
   },
   "outputs": [],
   "source": []
  },
  {
   "cell_type": "markdown",
   "metadata": {
    "collapsed": false
   },
   "source": [
    "### - L2 weight which maximize the validation and test error is 0.001 \n",
    "### - maximum test accuracy = 93.02%"
   ]
  },
  {
   "cell_type": "code",
   "execution_count": null,
   "metadata": {
    "collapsed": false
   },
   "outputs": [],
   "source": []
  },
  {
   "cell_type": "code",
   "execution_count": null,
   "metadata": {
    "collapsed": true
   },
   "outputs": [],
   "source": []
  },
  {
   "cell_type": "markdown",
   "metadata": {
    "colab_type": "text",
    "id": "na8xX2yHZzNF"
   },
   "source": [
    "---\n",
    "Problem 2\n",
    "---------\n",
    "Let's demonstrate an extreme case of overfitting. Restrict your training data to just a few batches. What happens?\n",
    "\n",
    "---"
   ]
  },
  {
   "cell_type": "code",
   "execution_count": 33,
   "metadata": {
    "collapsed": false
   },
   "outputs": [],
   "source": [
    "\n",
    "def tf_modelRegr_overfit(batch_size,n_nodes,num_steps,L2_weight):\n",
    "\n",
    "    graph = tf.Graph()\n",
    "    with graph.as_default():\n",
    "\n",
    "        # Input data. For the training data, we use a placeholder that will be fed\n",
    "        # at run time with a training minibatch.\n",
    "        tf_train_dataset = tf.placeholder(tf.float32,shape=(batch_size, image_size * image_size))\n",
    "        tf_train_labels =  tf.placeholder(tf.float32,shape=(batch_size, num_labels))\n",
    "        tf_valid_dataset = tf.constant(valid_dataset)\n",
    "        tf_test_dataset = tf.constant(test_dataset)\n",
    "\n",
    "        # input layer - (784 col) * (784 row x 1024 col) + (1024 col) = (1024 col)\n",
    "        weights_01 = tf.Variable(tf.truncated_normal([image_size * image_size, n_nodes]))\n",
    "        biases_01 = tf.Variable(tf.zeros([n_nodes]))\n",
    "\n",
    "        # then hidden layer - rectified linear on output of input layer\n",
    "        # output layer - (1024 col) * (1024 row x 10 col) + (10 col) = (10 col)\n",
    "        weights_12 = tf.Variable(tf.truncated_normal([n_nodes, num_labels]))\n",
    "        biases_12 = tf.Variable(tf.zeros([num_labels]))\n",
    "\n",
    "        # Training computation.\n",
    "        logits_01 = tf.matmul(tf_train_dataset, weights_01) + biases_01   ## input layer\n",
    "        h1 = tf.nn.relu(logits_01) ## Hidden layer\n",
    "        logits_12 = tf.matmul(h1, weights_12) + biases_12     ## output layer\n",
    "\n",
    "        ## calculating loss function\n",
    "        loss = tf.reduce_mean(\n",
    "            tf.nn.softmax_cross_entropy_with_logits(labels=tf_train_labels, logits=logits_12) + \n",
    "            L2_weight*tf.nn.l2_loss(weights_01) + \n",
    "            L2_weight*tf.nn.l2_loss(weights_12)\n",
    "        )\n",
    "\n",
    "        # Optimizer.\n",
    "        optimizer = tf.train.GradientDescentOptimizer(0.5).minimize(loss)\n",
    "\n",
    "        # Predictions for the training\n",
    "        train_prediction = tf.nn.softmax(logits_12) \n",
    "        valid_prediction = tf.nn.softmax(\n",
    "            tf.matmul(tf.nn.relu(tf.matmul(tf_valid_dataset, weights_01) + biases_01), weights_12) + biases_12\n",
    "        )\n",
    "        test_prediction = tf.nn.softmax(\n",
    "            tf.matmul(tf.nn.relu(tf.matmul(tf_test_dataset, weights_01) + biases_01), weights_12) + biases_12\n",
    "        )\n",
    "        \n",
    "    Tdata = train_dataset[:20000]\n",
    "    Tlabel = train_labels[:20000]\n",
    " \n",
    "    with tf.Session(graph=graph) as session:\n",
    "        tf.global_variables_initializer().run()\n",
    "        #print(\"Initialized\")\n",
    "        for step in range(num_steps):\n",
    "            # Pick an offset within the training data, which has been randomized.\n",
    "            # Note: we could use better randomization across epochs.\n",
    "            offset = (step * batch_size) % (Tlabel.shape[0] - batch_size)\n",
    "            # Generate a minibatch.\n",
    "            batch_data = Tdata[offset:(offset + batch_size), :]\n",
    "            batch_labels = Tlabel[offset:(offset + batch_size), :]\n",
    "            # Prepare a dictionary telling the session where to feed the minibatch.\n",
    "            # The key of the dictionary is the placeholder node of the graph to be fed,\n",
    "            # and the value is the numpy array to feed to it.\n",
    "            feed_dict = {tf_train_dataset : batch_data, \n",
    "                         tf_train_labels : batch_labels}\n",
    "            _, l, predictions = session.run([optimizer, loss, train_prediction], feed_dict=feed_dict)\n",
    "            if (step % 500 == 0):\n",
    "                print(\"Minibatch loss at step %d: %f\" % (step, l))\n",
    "                print(\"Minibatch accuracy: %.1f%%\" % accuracy(predictions, batch_labels))\n",
    "                print(\"Validation accuracy: %.1f%%\" % accuracy(\n",
    "                valid_prediction.eval(), valid_labels))\n",
    "        #print(\"Test accuracy: %.1f%%\" % accuracy(test_prediction.eval(), test_labels))\n",
    "        print(L2_weight, \n",
    "              accuracy(valid_prediction.eval(), valid_labels), \n",
    "              accuracy(test_prediction.eval(), test_labels))\n",
    "        "
   ]
  },
  {
   "cell_type": "code",
   "execution_count": 34,
   "metadata": {
    "collapsed": false
   },
   "outputs": [
    {
     "name": "stdout",
     "output_type": "stream",
     "text": [
      "Minibatch loss at step 0: 634.014832\n",
      "Minibatch accuracy: 14.1%\n",
      "Validation accuracy: 35.8%\n",
      "Minibatch loss at step 500: 192.429443\n",
      "Minibatch accuracy: 90.6%\n",
      "Validation accuracy: 80.3%\n",
      "Minibatch loss at step 1000: 115.044525\n",
      "Minibatch accuracy: 92.2%\n",
      "Validation accuracy: 81.0%\n",
      "Minibatch loss at step 1500: 69.354401\n",
      "Minibatch accuracy: 96.9%\n",
      "Validation accuracy: 82.3%\n",
      "Minibatch loss at step 2000: 42.004883\n",
      "Minibatch accuracy: 100.0%\n",
      "Validation accuracy: 83.1%\n",
      "Minibatch loss at step 2500: 25.494728\n",
      "Minibatch accuracy: 100.0%\n",
      "Validation accuracy: 83.7%\n",
      "Minibatch loss at step 3000: 15.564071\n",
      "Minibatch accuracy: 98.4%\n",
      "Validation accuracy: 84.3%\n",
      "0.001 84.28 91.1\n"
     ]
    }
   ],
   "source": [
    "batch_size = 128\n",
    "n_nodes = 1024\n",
    "L2_weight = 0.085\n",
    "num_steps = 3001\n",
    "tf_modelRegr_overfit(batch_size=128,n_nodes=1024,num_steps=3001,L2_weight=0.001)"
   ]
  },
  {
   "cell_type": "markdown",
   "metadata": {},
   "source": [
    "### overfit - note that the minibatch (training) accuracy is nearly 100%, a clear sign of overfit. "
   ]
  },
  {
   "cell_type": "markdown",
   "metadata": {
    "colab_type": "text",
    "id": "ww3SCBUdlkRc"
   },
   "source": [
    "---\n",
    "Problem 3\n",
    "---------\n",
    "Introduce Dropout on the hidden layer of the neural network. Remember: Dropout should only be introduced during training, not evaluation, otherwise your evaluation results would be stochastic as well. TensorFlow provides `nn.dropout()` for that, but you have to make sure it's only inserted during training.\n",
    "\n",
    "What happens to our extreme overfitting case?\n",
    "\n",
    "---"
   ]
  },
  {
   "cell_type": "code",
   "execution_count": null,
   "metadata": {
    "collapsed": true
   },
   "outputs": [],
   "source": []
  },
  {
   "cell_type": "code",
   "execution_count": 41,
   "metadata": {
    "collapsed": true
   },
   "outputs": [],
   "source": [
    "\n",
    "def tf_modelRegr_overfit(batch_size,n_nodes,num_steps,L2_weight):\n",
    "\n",
    "    graph = tf.Graph()\n",
    "    with graph.as_default():\n",
    "\n",
    "        # Input data. For the training data, we use a placeholder that will be fed\n",
    "        # at run time with a training minibatch.\n",
    "        tf_train_dataset = tf.placeholder(tf.float32,shape=(batch_size, image_size * image_size))\n",
    "        tf_train_labels =  tf.placeholder(tf.float32,shape=(batch_size, num_labels))\n",
    "        tf_valid_dataset = tf.constant(valid_dataset)\n",
    "        tf_test_dataset = tf.constant(test_dataset)\n",
    "\n",
    "        # input layer - (784 col) * (784 row x 1024 col) + (1024 col) = (1024 col)\n",
    "        weights_01 = tf.Variable(tf.truncated_normal([image_size * image_size, n_nodes]))\n",
    "        biases_01 = tf.Variable(tf.zeros([n_nodes]))\n",
    "\n",
    "        # then hidden layer - rectified linear on output of input layer\n",
    "        # output layer - (1024 col) * (1024 row x 10 col) + (10 col) = (10 col)\n",
    "        weights_12 = tf.Variable(tf.truncated_normal([n_nodes, num_labels]))\n",
    "        biases_12 = tf.Variable(tf.zeros([num_labels]))\n",
    "\n",
    "        # Training computation.\n",
    "        logits_01 = tf.matmul(tf_train_dataset, weights_01) + biases_01   ## input layer\n",
    "        h1 = tf.nn.relu(logits_01) ## Hidden layer\n",
    "        h1_drop = tf.nn.dropout(h1,0.50)\n",
    "        logits_12 = tf.matmul(h1_drop, weights_12) + biases_12     ## output layer\n",
    "\n",
    "        ## calculating loss function\n",
    "        loss = tf.reduce_mean(\n",
    "            tf.nn.softmax_cross_entropy_with_logits(labels=tf_train_labels, logits=logits_12) + \n",
    "            L2_weight*tf.nn.l2_loss(weights_01) + \n",
    "            L2_weight*tf.nn.l2_loss(weights_12)\n",
    "        )\n",
    "\n",
    "        # Optimizer.\n",
    "        optimizer = tf.train.GradientDescentOptimizer(0.5).minimize(loss)\n",
    "\n",
    "        # Predictions for the training\n",
    "        train_prediction = tf.nn.softmax(logits_12) \n",
    "        valid_prediction = tf.nn.softmax(\n",
    "            tf.matmul(tf.nn.relu(tf.matmul(tf_valid_dataset, weights_01) + biases_01), weights_12) + biases_12\n",
    "        )\n",
    "        test_prediction = tf.nn.softmax(\n",
    "            tf.matmul(tf.nn.relu(tf.matmul(tf_test_dataset, weights_01) + biases_01), weights_12) + biases_12\n",
    "        )\n",
    "        \n",
    "    Tdata = train_dataset[:20000]\n",
    "    Tlabel = train_labels[:20000]\n",
    " \n",
    "    with tf.Session(graph=graph) as session:\n",
    "        tf.global_variables_initializer().run()\n",
    "        #print(\"Initialized\")\n",
    "        for step in range(num_steps):\n",
    "            # Pick an offset within the training data, which has been randomized.\n",
    "            # Note: we could use better randomization across epochs.\n",
    "            offset = (step * batch_size) % (Tlabel.shape[0] - batch_size)\n",
    "            # Generate a minibatch.\n",
    "            batch_data = Tdata[offset:(offset + batch_size), :]\n",
    "            batch_labels = Tlabel[offset:(offset + batch_size), :]\n",
    "            # Prepare a dictionary telling the session where to feed the minibatch.\n",
    "            # The key of the dictionary is the placeholder node of the graph to be fed,\n",
    "            # and the value is the numpy array to feed to it.\n",
    "            feed_dict = {tf_train_dataset : batch_data, \n",
    "                         tf_train_labels : batch_labels}\n",
    "            _, l, predictions = session.run([optimizer, loss, train_prediction], feed_dict=feed_dict)\n",
    "            if (step % 500 == 0):\n",
    "                print(\"Minibatch loss at step %d: %f\" % (step, l))\n",
    "                print(\"Minibatch accuracy: %.1f%%\" % accuracy(predictions, batch_labels))\n",
    "                print(\"Validation accuracy: %.1f%%\" % accuracy(\n",
    "                valid_prediction.eval(), valid_labels))\n",
    "        #print(\"Test accuracy: %.1f%%\" % accuracy(test_prediction.eval(), test_labels))\n",
    "        print(\"L2_Weight, Validation Error, Test Error\")\n",
    "        print(L2_weight, \n",
    "              accuracy(valid_prediction.eval(), valid_labels), \n",
    "              accuracy(test_prediction.eval(), test_labels))\n",
    "        "
   ]
  },
  {
   "cell_type": "code",
   "execution_count": 42,
   "metadata": {
    "collapsed": false
   },
   "outputs": [
    {
     "name": "stdout",
     "output_type": "stream",
     "text": [
      "Minibatch loss at step 0: 817.575928\n",
      "Minibatch accuracy: 9.4%\n",
      "Validation accuracy: 34.3%\n",
      "Minibatch loss at step 500: 198.934082\n",
      "Minibatch accuracy: 82.8%\n",
      "Validation accuracy: 80.5%\n",
      "Minibatch loss at step 1000: 117.691956\n",
      "Minibatch accuracy: 81.2%\n",
      "Validation accuracy: 81.5%\n",
      "Minibatch loss at step 1500: 70.531876\n",
      "Minibatch accuracy: 83.6%\n",
      "Validation accuracy: 82.0%\n",
      "Minibatch loss at step 2000: 42.372993\n",
      "Minibatch accuracy: 88.3%\n",
      "Validation accuracy: 83.5%\n",
      "Minibatch loss at step 2500: 25.687977\n",
      "Minibatch accuracy: 93.0%\n",
      "Validation accuracy: 84.2%\n",
      "Minibatch loss at step 3000: 15.782421\n",
      "Minibatch accuracy: 91.4%\n",
      "Validation accuracy: 84.9%\n",
      "L2_Weight, Validation Error, Test Error\n",
      "0.001 84.89 91.67\n"
     ]
    }
   ],
   "source": [
    "tf_modelRegr_overfit(batch_size=128,n_nodes=1024,num_steps=3001,L2_weight=0.001)"
   ]
  },
  {
   "cell_type": "markdown",
   "metadata": {},
   "source": [
    "### I am not sure if I implemented the dropout properly.. But.. The minibatch accuracy (training error) seems to be better controlled than before and \"might\" not be over fitted. Also, test error is 91.67 which is preety good for only 20000 data points. "
   ]
  },
  {
   "cell_type": "markdown",
   "metadata": {
    "colab_type": "text",
    "id": "-b1hTz3VWZjw"
   },
   "source": [
    "---\n",
    "Problem 4\n",
    "---------\n",
    "\n",
    "Try to get the best performance you can using a multi-layer model! The best reported test accuracy using a deep network is [97.1%](http://yaroslavvb.blogspot.com/2011/09/notmnist-dataset.html?showComment=1391023266211#c8758720086795711595).\n",
    "\n",
    "One avenue you can explore is to add multiple layers.\n",
    "\n",
    "Another one is to use learning rate decay:\n",
    "\n",
    "    global_step = tf.Variable(0)  # count the number of steps taken.\n",
    "    learning_rate = tf.train.exponential_decay(0.5, global_step, ...)\n",
    "    optimizer = tf.train.GradientDescentOptimizer(learning_rate).minimize(loss, global_step=global_step)\n",
    " \n",
    " ---\n"
   ]
  },
  {
   "cell_type": "markdown",
   "metadata": {},
   "source": [
    "## Try net with 2 hidden layers"
   ]
  },
  {
   "cell_type": "code",
   "execution_count": 112,
   "metadata": {
    "collapsed": true
   },
   "outputs": [],
   "source": [
    "# Network Parameters\n",
    "n_hidden_1 = 256 # 1st layer number of features\n",
    "n_hidden_2 = 256 # 2nd layer number of features\n",
    "n_input = 784    # MNIST data input (img shape: 28*28)\n",
    "n_classes = 10   # MNIST total classes (0-9 digits)\n",
    "\n",
    "\n",
    "def multilayer_perceptron(data, weights, biases):\n",
    "    # Hidden layer with RELU activation\n",
    "    layer_1 = tf.add(tf.matmul(data, weights['h1']), biases['b1'])\n",
    "    layer_1 = tf.nn.relu(layer_1)\n",
    "    # Hidden layer 2 with RELU activation\n",
    "    layer_2 = tf.add(tf.matmul(layer_1, weights['h2']), biases['b2'])\n",
    "    layer_2 = tf.nn.relu(layer_2)\n",
    "    # Output layer with linear activation\n",
    "    out_layer = tf.add(tf.matmul(layer_2, weights['out']), biases['out'])\n",
    "    return out_layer\n",
    "\n",
    "\n",
    "def tfDeep_modelRegr(batch_size,num_steps,L2_weight):\n",
    "\n",
    "    graph = tf.Graph()\n",
    "    with graph.as_default():\n",
    "\n",
    "        # Input data. For the training data, we use a placeholder that will be fed\n",
    "        # at run time with a training minibatch.\n",
    "        tf_train_dataset = tf.placeholder(tf.float32,shape=(batch_size, n_input))\n",
    "        tf_train_labels =  tf.placeholder(tf.float32,shape=(batch_size, num_labels))\n",
    "        tf_valid_dataset = tf.constant(valid_dataset)\n",
    "        tf_test_dataset = tf.constant(test_dataset)\n",
    "        \n",
    "        # Store layers weight & bias\n",
    "        weights = {\n",
    "            'h1': tf.Variable(tf.truncated_normal([n_input, n_hidden_1], \n",
    "                                                  stddev=np.sqrt(2.0 /float(n_input)))\n",
    "                              ),\n",
    "            'h2': tf.Variable(tf.truncated_normal([n_hidden_1, n_hidden_2],\n",
    "                                                 stddev=np.sqrt(2.0 /float(n_hidden_1)))\n",
    "                             ),\n",
    "            'out': tf.Variable(tf.truncated_normal([n_hidden_2, n_classes],\n",
    "                                                  stddev=np.sqrt(2.0 /float(n_hidden_2)))\n",
    "                              )\n",
    "        }\n",
    "        biases = {\n",
    "            'b1': tf.Variable(tf.zeros([n_hidden_1])),\n",
    "            'b2': tf.Variable(tf.zeros([n_hidden_2])),\n",
    "            'out': tf.Variable(tf.zeros([n_classes]))\n",
    "        }\n",
    "\n",
    "        # Construct model\n",
    "        pred = multilayer_perceptron(tf_train_dataset, weights, biases)\n",
    "\n",
    "        ## calculating loss function\n",
    "        loss = tf.reduce_mean(\n",
    "            tf.nn.softmax_cross_entropy_with_logits(labels=tf_train_labels, logits=pred) + \n",
    "            L2_weight*tf.nn.l2_loss(weights['h1']) + \n",
    "            L2_weight*tf.nn.l2_loss(weights['h2']) +\n",
    "            L2_weight*tf.nn.l2_loss(weights['out'])\n",
    "        )\n",
    "        \n",
    "        # Optimizer.\n",
    "        #optimizer = tf.train.GradientDescentOptimizer(0.5).minimize(loss)\n",
    "        global_step = tf.Variable(0)\n",
    "        learning_rate = tf.train.exponential_decay(0.5, global_step, 1000, 0.65, staircase=True)\n",
    "        #optimizer = tf.train.GradientDescentOptimizer(learning_rate).minimize(loss, global_step=global_step)\n",
    "\n",
    "        # Predictions for the training\n",
    "        train_prediction = tf.nn.softmax(pred) \n",
    "        valid_prediction = tf.nn.softmax(multilayer_perceptron(tf_valid_dataset, weights, biases))\n",
    "        test_prediction = tf.nn.softmax(multilayer_perceptron(tf_test_dataset, weights, biases))\n",
    "        \n",
    " \n",
    "    with tf.Session(graph=graph) as session:\n",
    "        tf.global_variables_initializer().run()\n",
    "        #print(\"Initialized\")\n",
    "        for step in range(num_steps):\n",
    "            offset = (step * batch_size) % (train_labels.shape[0] - batch_size)\n",
    "            batch_data = train_dataset[offset:(offset + batch_size), :]\n",
    "            batch_labels = train_labels[offset:(offset + batch_size), :]\n",
    "            \n",
    "            feed_dict = {tf_train_dataset : batch_data, \n",
    "                         tf_train_labels : batch_labels}\n",
    "            \n",
    "            _, l, predictions = session.run([optimizer, loss, train_prediction], feed_dict=feed_dict)\n",
    "            \n",
    "            if (step % 500 == 0):\n",
    "                #print(predictions)\n",
    "                print(\"Minibatch loss at step %d: %f\" % (step, l))\n",
    "                print(\"Minibatch accuracy: %.1f%%\" % accuracy(predictions, batch_labels))\n",
    "                print(\"Validation accuracy: %.1f%%\" % accuracy(valid_prediction.eval(), valid_labels))\n",
    "                \n",
    "        #print(\"Test accuracy: %.1f%%\" % accuracy(test_prediction.eval(), test_labels))\n",
    "        print(L2_weight, \n",
    "              accuracy(valid_prediction.eval(), valid_labels), \n",
    "              accuracy(test_prediction.eval(), test_labels))\n",
    "        "
   ]
  },
  {
   "cell_type": "code",
   "execution_count": 113,
   "metadata": {
    "collapsed": false
   },
   "outputs": [
    {
     "name": "stdout",
     "output_type": "stream",
     "text": [
      "Minibatch loss at step 0: 2.767899\n",
      "Minibatch accuracy: 10.9%\n",
      "Validation accuracy: 36.4%\n",
      "Minibatch loss at step 500: 0.741792\n",
      "Minibatch accuracy: 85.9%\n",
      "Validation accuracy: 85.4%\n",
      "Minibatch loss at step 1000: 0.579215\n",
      "Minibatch accuracy: 87.5%\n",
      "Validation accuracy: 86.5%\n",
      "Minibatch loss at step 1500: 0.684901\n",
      "Minibatch accuracy: 84.4%\n",
      "Validation accuracy: 87.6%\n",
      "Minibatch loss at step 2000: 0.538576\n",
      "Minibatch accuracy: 88.3%\n",
      "Validation accuracy: 87.6%\n",
      "Minibatch loss at step 2500: 0.559691\n",
      "Minibatch accuracy: 87.5%\n",
      "Validation accuracy: 87.8%\n",
      "Minibatch loss at step 3000: 0.496582\n",
      "Minibatch accuracy: 87.5%\n",
      "Validation accuracy: 88.4%\n",
      "0.001 88.44 94.29\n"
     ]
    }
   ],
   "source": [
    "tfDeep_modelRegr(batch_size=128,num_steps=3001,L2_weight=0.001)"
   ]
  },
  {
   "cell_type": "markdown",
   "metadata": {},
   "source": [
    "## Try now with 5 hidden layers"
   ]
  },
  {
   "cell_type": "code",
   "execution_count": null,
   "metadata": {
    "collapsed": true
   },
   "outputs": [],
   "source": [
    "# Network Parameters\n",
    "n_hidden_1 = 256 # 1st layer number of features\n",
    "n_hidden_2 = 256 # 2nd layer number of features\n",
    "n_input = 784    # MNIST data input (img shape: 28*28)\n",
    "n_classes = 10   # MNIST total classes (0-9 digits)\n",
    "\n",
    "\n",
    "def multilayer_perceptron(data, weights, biases):\n",
    "    # Hidden layer with RELU activation\n",
    "    layer_1 = tf.add(tf.matmul(data, weights['h1']), biases['b1'])\n",
    "    layer_1 = tf.nn.relu(layer_1)\n",
    "    # Hidden layer 2 with RELU activation\n",
    "    layer_2 = tf.add(tf.matmul(layer_1, weights['h2']), biases['b2'])\n",
    "    layer_2 = tf.nn.relu(layer_2)\n",
    "    # Output layer with linear activation\n",
    "    out_layer = tf.add(tf.matmul(layer_2, weights['out']), biases['out'])\n",
    "    return out_layer\n",
    "\n",
    "\n",
    "def tfDeep_modelRegr(batch_size,num_steps,L2_weight):\n",
    "\n",
    "    graph = tf.Graph()\n",
    "    with graph.as_default():\n",
    "\n",
    "        # Input data. For the training data, we use a placeholder that will be fed\n",
    "        # at run time with a training minibatch.\n",
    "        tf_train_dataset = tf.placeholder(tf.float32,shape=(batch_size, n_input))\n",
    "        tf_train_labels =  tf.placeholder(tf.float32,shape=(batch_size, num_labels))\n",
    "        tf_valid_dataset = tf.constant(valid_dataset)\n",
    "        tf_test_dataset = tf.constant(test_dataset)\n",
    "        \n",
    "        # Store layers weight & bias\n",
    "        weights = {\n",
    "            'h1': tf.Variable(tf.truncated_normal([n_input, n_hidden_1], \n",
    "                                                  stddev=np.sqrt(2.0 /float(n_input)))\n",
    "                              ),\n",
    "            'h2': tf.Variable(tf.truncated_normal([n_hidden_1, n_hidden_2],\n",
    "                                                 stddev=np.sqrt(2.0 /float(n_hidden_1)))\n",
    "                             ),\n",
    "            'out': tf.Variable(tf.truncated_normal([n_hidden_2, n_classes],\n",
    "                                                  stddev=np.sqrt(2.0 /float(n_hidden_2)))\n",
    "                              )\n",
    "        }\n",
    "        biases = {\n",
    "            'b1': tf.Variable(tf.zeros([n_hidden_1])),\n",
    "            'b2': tf.Variable(tf.zeros([n_hidden_2])),\n",
    "            'out': tf.Variable(tf.zeros([n_classes]))\n",
    "        }\n",
    "\n",
    "        # Construct model\n",
    "        pred = multilayer_perceptron(tf_train_dataset, weights, biases)\n",
    "\n",
    "        ## calculating loss function\n",
    "        loss = tf.reduce_mean(\n",
    "            tf.nn.softmax_cross_entropy_with_logits(labels=tf_train_labels, logits=pred) + \n",
    "            L2_weight*tf.nn.l2_loss(weights['h1']) + \n",
    "            L2_weight*tf.nn.l2_loss(weights['h2']) +\n",
    "            L2_weight*tf.nn.l2_loss(weights['out'])\n",
    "        )\n",
    "        \n",
    "        # Optimizer.\n",
    "        #optimizer = tf.train.GradientDescentOptimizer(0.5).minimize(loss)\n",
    "        global_step = tf.Variable(0)\n",
    "        learning_rate = tf.train.exponential_decay(0.5, global_step, 1000, 0.65, staircase=True)\n",
    "        #optimizer = tf.train.GradientDescentOptimizer(learning_rate).minimize(loss, global_step=global_step)\n",
    "\n",
    "        # Predictions for the training\n",
    "        train_prediction = tf.nn.softmax(pred) \n",
    "        valid_prediction = tf.nn.softmax(multilayer_perceptron(tf_valid_dataset, weights, biases))\n",
    "        test_prediction = tf.nn.softmax(multilayer_perceptron(tf_test_dataset, weights, biases))\n",
    "        \n",
    " \n",
    "    with tf.Session(graph=graph) as session:\n",
    "        tf.global_variables_initializer().run()\n",
    "        #print(\"Initialized\")\n",
    "        for step in range(num_steps):\n",
    "            offset = (step * batch_size) % (train_labels.shape[0] - batch_size)\n",
    "            batch_data = train_dataset[offset:(offset + batch_size), :]\n",
    "            batch_labels = train_labels[offset:(offset + batch_size), :]\n",
    "            \n",
    "            feed_dict = {tf_train_dataset : batch_data, \n",
    "                         tf_train_labels : batch_labels}\n",
    "            \n",
    "            _, l, predictions = session.run([optimizer, loss, train_prediction], feed_dict=feed_dict)\n",
    "            \n",
    "            if (step % 500 == 0):\n",
    "                #print(predictions)\n",
    "                print(\"Minibatch loss at step %d: %f\" % (step, l))\n",
    "                print(\"Minibatch accuracy: %.1f%%\" % accuracy(predictions, batch_labels))\n",
    "                print(\"Validation accuracy: %.1f%%\" % accuracy(valid_prediction.eval(), valid_labels))\n",
    "                \n",
    "        #print(\"Test accuracy: %.1f%%\" % accuracy(test_prediction.eval(), test_labels))\n",
    "        print(L2_weight, \n",
    "              accuracy(valid_prediction.eval(), valid_labels), \n",
    "              accuracy(test_prediction.eval(), test_labels))\n",
    "        "
   ]
  }
 ],
 "metadata": {
  "colab": {
   "default_view": {},
   "name": "3_regularization.ipynb",
   "provenance": [],
   "version": "0.3.2",
   "views": {}
  },
  "kernelspec": {
   "display_name": "Python [gl-env]",
   "language": "python",
   "name": "Python [gl-env]"
  },
  "language_info": {
   "codemirror_mode": {
    "name": "ipython",
    "version": 2
   },
   "file_extension": ".py",
   "mimetype": "text/x-python",
   "name": "python",
   "nbconvert_exporter": "python",
   "pygments_lexer": "ipython2",
   "version": "2.7.12"
  }
 },
 "nbformat": 4,
 "nbformat_minor": 0
}
